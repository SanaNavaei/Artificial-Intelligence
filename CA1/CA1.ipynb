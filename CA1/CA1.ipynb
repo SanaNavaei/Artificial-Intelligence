{
 "cells": [
  {
   "cell_type": "code",
   "execution_count": 103,
   "id": "1c2c3a5b",
   "metadata": {},
   "outputs": [],
   "source": [
    "import time\n",
    "import copy\n",
    "import heapq"
   ]
  },
  {
   "cell_type": "code",
   "execution_count": 104,
   "id": "72c71363",
   "metadata": {},
   "outputs": [],
   "source": [
    "FILE_NAME = \"Inputs/input.txt\""
   ]
  },
  {
   "cell_type": "code",
   "execution_count": 105,
   "id": "cc921f72",
   "metadata": {},
   "outputs": [],
   "source": [
    "f = open(FILE_NAME)\n",
    "\n",
    "nodes , edges = f.readline().split()\n",
    "nodes = int(nodes)\n",
    "edges = int(edges)\n",
    "type = []\n",
    "\n",
    "#read edges\n",
    "edges_list = {}\n",
    "for i in range(edges):\n",
    "    u,v = f.readline().split()\n",
    "    u = int(u)\n",
    "    v = int(v)\n",
    "    if u not in edges_list:\n",
    "        new_list = []\n",
    "        new_list.append(v)\n",
    "        edges_list[u] = new_list\n",
    "    else:\n",
    "        new_list = []\n",
    "        new_list.append(v)\n",
    "        edges_list[u].extend(new_list)\n",
    "    if v not in edges_list:\n",
    "        new_list = []\n",
    "        new_list.append(u)\n",
    "        edges_list[v] = new_list\n",
    "    else:\n",
    "        new_list = []\n",
    "        new_list.append(u)\n",
    "        edges_list[v].extend(new_list)\n",
    "\n",
    "\n",
    "#hard to pass\n",
    "hard_to_pass = []\n",
    "hard_to_pass_number = int(f.readline())\n",
    "hard_to_pass = [int(x) for x in f.readline().split()]\n",
    "\n",
    "#recipes\n",
    "follower_number = int(f.readline())\n",
    "all_recipe = set()\n",
    "morid = []\n",
    "recipes = {}\n",
    "for i in range(follower_number):\n",
    "    lists = []\n",
    "    p,q, *arr_follower = [int(x) for x in f.readline().split()]\n",
    "    morid.append(p)\n",
    "    all_recipe = all_recipe.union(arr_follower)\n",
    "    recipes[p] = arr_follower\n",
    "\n",
    "#start state\n",
    "start_state = int(f.readline())\n",
    "\n",
    "all_recipes = list(all_recipe)\n",
    "f.close()"
   ]
  },
  {
   "cell_type": "code",
   "execution_count": 106,
   "id": "bbc7a2a8",
   "metadata": {},
   "outputs": [],
   "source": [
    "class State:\n",
    "    def __init__(self,path,position,pass_recipes,pass_morid,hard_to_pass,hard_time):\n",
    "        self.path = path\n",
    "        self.position = position\n",
    "        self.pass_recipes = pass_recipes\n",
    "        self.pass_morid = pass_morid\n",
    "        self.hard_to_pass = hard_to_pass\n",
    "        self.hard_time = hard_time\n",
    "    \n",
    "    def __lt__(self,other):\n",
    "        return len(self.path) < len(other.path)\n",
    "\n",
    "    def __eq__(self, state2):\n",
    "        if self.position == state2.position and self.hard_time == state2.hard_time and self.pass_recipes == state2.pass_recipes and self.pass_morid == state2.pass_morid:\n",
    "            return True\n",
    "        else:\n",
    "            return False"
   ]
  },
  {
   "cell_type": "code",
   "execution_count": 107,
   "id": "ee1df5d5",
   "metadata": {},
   "outputs": [],
   "source": [
    "def initialize():\n",
    "    hard_dict = {}\n",
    "    pass_recipes = set()\n",
    "    pass_morid = []\n",
    "    path = [start_state]\n",
    "    for hard in hard_to_pass:\n",
    "        hard_dict[hard] = 0\n",
    "    start = State(path,start_state,pass_recipes,pass_morid,hard_dict,0)\n",
    "    return start"
   ]
  },
  {
   "cell_type": "code",
   "execution_count": 108,
   "id": "4cbf6344",
   "metadata": {},
   "outputs": [],
   "source": [
    "def check_hard_state(state):\n",
    "    if state.position in hard_to_pass:\n",
    "        if state.hard_to_pass[state.position] > state.hard_time:\n",
    "            return True\n",
    "        else:\n",
    "            state.hard_to_pass[state.position] += 1\n",
    "    return False"
   ]
  },
  {
   "cell_type": "code",
   "execution_count": 109,
   "id": "155b7f82",
   "metadata": {},
   "outputs": [],
   "source": [
    "def new_morid(state, neighbour):\n",
    "    if neighbour in morid:\n",
    "        if set(recipes[neighbour]).issubset(state.pass_recipes):\n",
    "            if neighbour not in state.pass_morid:\n",
    "                state.pass_morid.append(neighbour)\n",
    "    return state.pass_morid"
   ]
  },
  {
   "cell_type": "code",
   "execution_count": 110,
   "id": "16f9d061",
   "metadata": {},
   "outputs": [],
   "source": [
    "def new_recipes(state, neighbour):\n",
    "    if neighbour in all_recipes:\n",
    "        state.pass_recipes.add(neighbour)\n",
    "    return state.pass_recipes"
   ]
  },
  {
   "cell_type": "code",
   "execution_count": 111,
   "id": "463f8366",
   "metadata": {},
   "outputs": [],
   "source": [
    "def next_states(state):\n",
    "    next_state = []\n",
    "    if_in_hard = check_hard_state(state)\n",
    "    if if_in_hard:\n",
    "        #current state is hard\n",
    "        neww = copy.deepcopy(state)\n",
    "        neww.path.append(neww.position)\n",
    "        neww.hard_time =neww.hard_time + 1\n",
    "        next_state.append(neww)\n",
    "        return next_state\n",
    "    else:\n",
    "        for neighbour in edges_list[state.position]:\n",
    "            #create a new state for each neighbour\n",
    "            neww = copy.deepcopy(state)\n",
    "            neww.path.append(neighbour)\n",
    "            neww.position = neighbour\n",
    "            neww.pass_recipes = new_recipes(neww, neighbour)\n",
    "            neww.pass_morid = new_morid(neww, neighbour)\n",
    "            neww.hard_time = 0\n",
    "            next_state.append(neww)\n",
    "        return next_state"
   ]
  },
  {
   "cell_type": "code",
   "execution_count": 112,
   "id": "125b43ec",
   "metadata": {},
   "outputs": [],
   "source": [
    "def BFS():\n",
    "    frontier = []\n",
    "    visited = []\n",
    "    state = initialize()\n",
    "    visited_state = 1\n",
    "\n",
    "    #check if we are in the goal state\n",
    "    if len(morid) == len(state.pass_morid):\n",
    "        return len(state.path)-1,visited_state,state.path\n",
    "    #add the start state to the frontier\n",
    "    frontier.append(state)\n",
    "\n",
    "    while frontier:\n",
    "        #get the first state in the frontier\n",
    "        state = frontier.pop(0)\n",
    "        #get all the next states\n",
    "        next_state = next_states(state)\n",
    "        for s in next_state:\n",
    "            checker = False\n",
    "            if s not in visited:\n",
    "                for i in range(len(frontier)):\n",
    "                    if s == frontier[i]:\n",
    "                        checker = True\n",
    "                        break\n",
    "                if checker == False:\n",
    "                    visited_state += 1\n",
    "                    #check if we are in the goal state\n",
    "                    if len(morid) == len(state.pass_morid):\n",
    "                        return len(state.path)-1,visited_state,state.path\n",
    "\n",
    "                    #add the state to the frontier\n",
    "                    frontier.append(s)\n",
    "        visited.append(state)\n",
    "    return len(state.path)-1,visited_state,state.path"
   ]
  },
  {
   "cell_type": "code",
   "execution_count": 113,
   "id": "f0f29345",
   "metadata": {},
   "outputs": [
    {
     "name": "stdout",
     "output_type": "stream",
     "text": [
      "file name:  input.txt\n",
      "visited states:  40\n",
      "BFS :  1 3 4 5 7 10 11 9 8\n",
      "BFS cost:  8\n",
      "BFS average time:  0.0027783711751302085\n"
     ]
    }
   ],
   "source": [
    "#check bfs\n",
    "start = time.time()\n",
    "cost,visited,bfs_output = BFS()\n",
    "end = time.time()\n",
    "start2 = time.time()\n",
    "cost,visited,bfs_output = BFS()\n",
    "end2 = time.time()\n",
    "start3 = time.time()\n",
    "cost,visited,bfs_output = BFS()\n",
    "end3 = time.time()\n",
    "print(\"file name: \",FILE_NAME)\n",
    "print(\"visited states: \",visited)\n",
    "print(\"BFS : \", *bfs_output)\n",
    "print(\"BFS cost: \", cost)\n",
    "print(\"BFS average time: \", (end - start + end2 - start2 + end3 - start3)/3)"
   ]
  },
  {
   "cell_type": "code",
   "execution_count": 114,
   "id": "029ad5b4",
   "metadata": {},
   "outputs": [],
   "source": [
    "def DFS(level, state,visited):\n",
    "    #check if we are in the goal state\n",
    "    if len(morid) == len(state.pass_morid):\n",
    "        return True,state.path,visited\n",
    "\n",
    "    #stop if we reach the max level\n",
    "    if level < 1:\n",
    "        return False,None,visited\n",
    "        \n",
    "    #get all the next states\n",
    "    next_state = next_states(state)\n",
    "    for s in next_state:\n",
    "        visited += 1\n",
    "        situation,path,visited = DFS(level - 1, s,visited)\n",
    "        if situation:\n",
    "            return True,path,visited\n",
    "    return False,None,visited\n"
   ]
  },
  {
   "cell_type": "code",
   "execution_count": 115,
   "id": "de00df04",
   "metadata": {},
   "outputs": [],
   "source": [
    "def IDS(level):\n",
    "    max_level = level\n",
    "    while max_level >= 0:\n",
    "        visited = 0\n",
    "        state = initialize()\n",
    "        situation,IDS_path,visited_state = DFS(level,state,visited)\n",
    "        if situation:\n",
    "            return IDS_path,visited_state,len(IDS_path)-1\n",
    "        level = level + 1\n",
    "        max_level = max_level + 1"
   ]
  },
  {
   "cell_type": "code",
   "execution_count": 116,
   "id": "c65dded1",
   "metadata": {},
   "outputs": [
    {
     "name": "stdout",
     "output_type": "stream",
     "text": [
      "file name:  input.txt\n",
      "IDS :  1 3 4 5 7 10 11 9 8\n",
      "IDS cost:  8\n",
      "IDS visited:  2519\n",
      "IDS average time:  0.09938168525695801\n"
     ]
    }
   ],
   "source": [
    "#check IDS\n",
    "start = time.time()\n",
    "IDS_output,visited,cost = IDS(level = 1)\n",
    "end = time.time()\n",
    "start2 = time.time()\n",
    "IDS_output,visited,cost = IDS(level = 1)\n",
    "end2 = time.time()\n",
    "start3 = time.time()\n",
    "IDS_output,visited,cost = IDS(level = 1)\n",
    "end3 = time.time()\n",
    "print(\"file name: \",FILE_NAME)\n",
    "print(\"IDS : \", *IDS_output)\n",
    "print(\"IDS cost: \", cost)\n",
    "print(\"IDS visited: \", visited)\n",
    "print(\"IDS average time: \", (end - start + end2 - start2 + end3 - start3)/3)"
   ]
  },
  {
   "cell_type": "code",
   "execution_count": 117,
   "id": "25dd97b0",
   "metadata": {},
   "outputs": [],
   "source": [
    "def heuristic(state):\n",
    "    #calculate the heuristic value\n",
    "    h = []\n",
    "    for m in morid:\n",
    "        if m not in state.pass_morid:\n",
    "            if state.position not in h:\n",
    "                h.append(state.position)\n",
    "    for r in all_recipes:\n",
    "        if r not in state.pass_recipes:\n",
    "            if state.position not in h:\n",
    "                h.append(state.position)\n",
    "    return len(h)"
   ]
  },
  {
   "cell_type": "code",
   "execution_count": 118,
   "id": "a6022821",
   "metadata": {},
   "outputs": [],
   "source": [
    "def A_star(alpha):\n",
    "    frontier = []\n",
    "    visited = []\n",
    "    state = initialize()\n",
    "    visited_state = 1\n",
    "\n",
    "    #check if we are in the goal state\n",
    "    if len(morid) == len(state.pass_morid):\n",
    "        return len(state.path)-1,visited_state,state.path\n",
    "        \n",
    "    #add the start state to the frontier\n",
    "    heapq.heappush(frontier,(alpha*heuristic(state)+len(state.path),state))\n",
    "\n",
    "    while frontier:\n",
    "        #get the first state in the frontier\n",
    "        state = heapq.heappop(frontier)[1]\n",
    "\n",
    "        #check if we are in the goal state\n",
    "        if len(morid) == len(state.pass_morid):\n",
    "            return len(state.path)-1,visited_state,state.path\n",
    "\n",
    "        #get all the next states\n",
    "        next_state = next_states(state)\n",
    "        for s in next_state:\n",
    "            checker = False\n",
    "            if s not in visited:\n",
    "                for i in range(len(frontier)):\n",
    "                    if s == frontier[i][1]:\n",
    "                        checker = True\n",
    "                        break\n",
    "                if checker == False:\n",
    "                    visited_state += 1\n",
    "\n",
    "                    #add the state to the frontier\n",
    "                    heapq.heappush(frontier,(alpha*heuristic(s)+len(s.path),s))\n",
    "        visited.append(state)\n",
    "    return len(state.path)-1,visited_state,state.path"
   ]
  },
  {
   "cell_type": "code",
   "execution_count": 119,
   "id": "0707d835",
   "metadata": {},
   "outputs": [
    {
     "name": "stdout",
     "output_type": "stream",
     "text": [
      "file name:  input.txt\n",
      "A* :  1 3 4 5 7 10 11 9 8\n",
      "A* cost:  8\n",
      "A* visited:  35\n",
      "A* average time:  0.00466307004292806\n"
     ]
    }
   ],
   "source": [
    "alpha = 7\n",
    "start = time.time()\n",
    "cost,visited,A_output = A_star(alpha)\n",
    "end = time.time()\n",
    "start2 = time.time()\n",
    "cost,visited,A_output = A_star(alpha)\n",
    "end2 = time.time()\n",
    "start3 = time.time()\n",
    "cost,visited,A_output = A_star(alpha)\n",
    "end3 = time.time()\n",
    "print(\"file name: \",FILE_NAME)\n",
    "print(\"A* : \", *A_output)\n",
    "print(\"A* cost: \", cost)\n",
    "print(\"A* visited: \", visited)\n",
    "print(\"A* average time: \", (end - start + end2 - start2 + end3 - start3)/3)"
   ]
  }
 ],
 "metadata": {
  "kernelspec": {
   "display_name": "Python 3 (ipykernel)",
   "language": "python",
   "name": "python3"
  },
  "language_info": {
   "codemirror_mode": {
    "name": "ipython",
    "version": 3
   },
   "file_extension": ".py",
   "mimetype": "text/x-python",
   "name": "python",
   "nbconvert_exporter": "python",
   "pygments_lexer": "ipython3",
   "version": "3.10.7"
  },
  "vscode": {
   "interpreter": {
    "hash": "5a6b4c4af412b2e66a9acb11f4af2d8c86495e9a5dba4dc28f345ddedf27df2a"
   }
  }
 },
 "nbformat": 4,
 "nbformat_minor": 5
}
